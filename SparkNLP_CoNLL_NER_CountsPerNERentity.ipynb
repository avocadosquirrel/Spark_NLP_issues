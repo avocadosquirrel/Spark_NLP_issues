{
  "nbformat": 4,
  "nbformat_minor": 0,
  "metadata": {
    "colab": {
      "name": "SparkNLP_CoNLL_NER_CountsPerNERentity.ipynb",
      "provenance": [],
      "toc_visible": true
    },
    "kernelspec": {
      "name": "python3",
      "display_name": "Python 3"
    }
  },
  "cells": [
    {
      "cell_type": "code",
      "metadata": {
        "id": "t6jcdVvO69NC"
      },
      "source": [
        ""
      ],
      "execution_count": null,
      "outputs": []
    },
    {
      "cell_type": "code",
      "metadata": {
        "id": "jJUSpnhDaUSZ"
      },
      "source": [
        ""
      ],
      "execution_count": null,
      "outputs": []
    },
    {
      "cell_type": "markdown",
      "metadata": {
        "id": "JldB9bizaUrv"
      },
      "source": [
        "# SPARK NLP - FEED THE CHILD TRAFFICKING DF INTO A SPARK DF ..."
      ]
    },
    {
      "cell_type": "code",
      "metadata": {
        "id": "hHyLjbfnaUP2"
      },
      "source": [
        "import pandas as pd"
      ],
      "execution_count": null,
      "outputs": []
    },
    {
      "cell_type": "code",
      "metadata": {
        "id": "Ozh7q3cq6mea"
      },
      "source": [
        "child_trafficking_rest_complete = pd.read_csv('child_trafficking_rest_complete.csv')"
      ],
      "execution_count": null,
      "outputs": []
    },
    {
      "cell_type": "code",
      "metadata": {
        "id": "RWnojzQU6maf"
      },
      "source": [
        ""
      ],
      "execution_count": null,
      "outputs": []
    },
    {
      "cell_type": "code",
      "metadata": {
        "id": "l89EIsXr6mWj"
      },
      "source": [
        ""
      ],
      "execution_count": null,
      "outputs": []
    },
    {
      "cell_type": "code",
      "metadata": {
        "id": "iRFzxHpPaUNS",
        "outputId": "e5b8165b-a25c-45bf-f20d-21c8b0d15606",
        "colab": {
          "base_uri": "https://localhost:8080/",
          "height": 291
        }
      },
      "source": [
        "child_trafficking_rest_complete.head()"
      ],
      "execution_count": null,
      "outputs": [
        {
          "output_type": "execute_result",
          "data": {
            "text/html": [
              "<div>\n",
              "<style scoped>\n",
              "    .dataframe tbody tr th:only-of-type {\n",
              "        vertical-align: middle;\n",
              "    }\n",
              "\n",
              "    .dataframe tbody tr th {\n",
              "        vertical-align: top;\n",
              "    }\n",
              "\n",
              "    .dataframe thead th {\n",
              "        text-align: right;\n",
              "    }\n",
              "</style>\n",
              "<table border=\"1\" class=\"dataframe\">\n",
              "  <thead>\n",
              "    <tr style=\"text-align: right;\">\n",
              "      <th></th>\n",
              "      <th>Unnamed: 0</th>\n",
              "      <th>Date</th>\n",
              "      <th>Title</th>\n",
              "      <th>Article_Link</th>\n",
              "      <th>Article</th>\n",
              "      <th>cleaned_article</th>\n",
              "      <th>cleaned2_article</th>\n",
              "    </tr>\n",
              "  </thead>\n",
              "  <tbody>\n",
              "    <tr>\n",
              "      <th>0</th>\n",
              "      <td>0</td>\n",
              "      <td>2020-09-22 04:00:00</td>\n",
              "      <td>A look at Netflix's most controversial content</td>\n",
              "      <td>https://search.bangkokpost.com/track/visitAndR...</td>\n",
              "      <td>Netflix is facing backlash from viewers in sev...</td>\n",
              "      <td>Netflix is facing backlash from viewers in sev...</td>\n",
              "      <td>Netflix is facing backlash from viewers in sev...</td>\n",
              "    </tr>\n",
              "    <tr>\n",
              "      <th>1</th>\n",
              "      <td>1</td>\n",
              "      <td>2020-07-28 20:45:00</td>\n",
              "      <td>\\n\\t\\t\\t\\t\\t\\t\\t\\t\\t\\t\\tPolice search German a...</td>\n",
              "      <td>https://search.bangkokpost.com/track/visitAndR...</td>\n",
              "      <td>BERLIN - Police are searching an allotment plo...</td>\n",
              "      <td>BERLIN - Police are searching an allotment plo...</td>\n",
              "      <td>BERLIN  Police are searching an allotment plot...</td>\n",
              "    </tr>\n",
              "    <tr>\n",
              "      <th>2</th>\n",
              "      <td>2</td>\n",
              "      <td>2020-07-23 10:45:00</td>\n",
              "      <td>\\n\\t\\t\\t\\t\\t\\t\\t\\t\\t\\t\\tDespite Twitter crackd...</td>\n",
              "      <td>https://search.bangkokpost.com/track/visitAndR...</td>\n",
              "      <td>WASHINGTON - Twitter's decision to crack down ...</td>\n",
              "      <td>WASHINGTON - Twitter's decision to crack down ...</td>\n",
              "      <td>WASHINGTON  Twitters decision to crack down on...</td>\n",
              "    </tr>\n",
              "    <tr>\n",
              "      <th>3</th>\n",
              "      <td>3</td>\n",
              "      <td>2020-06-19 08:37:00</td>\n",
              "      <td>\\n\\t\\t\\t\\t\\t\\t\\t\\t\\t\\t\\tOnline child sex abuse...</td>\n",
              "      <td>https://search.bangkokpost.com/track/visitAndR...</td>\n",
              "      <td>Online child sex abuse cases in Thailand are s...</td>\n",
              "      <td>Online child sex abuse cases in Thailand are s...</td>\n",
              "      <td>Online child sex abuse cases in Thailand are s...</td>\n",
              "    </tr>\n",
              "    <tr>\n",
              "      <th>4</th>\n",
              "      <td>4</td>\n",
              "      <td>2020-06-18 00:45:00</td>\n",
              "      <td>\\n\\t\\t\\t\\t\\t\\t\\t\\t\\t\\t\\t'Concrete evidence' th...</td>\n",
              "      <td>https://search.bangkokpost.com/track/visitAndR...</td>\n",
              "      <td>BERLIN - German prosecutors said Wednesday the...</td>\n",
              "      <td>BERLIN - German prosecutors said Wednesday the...</td>\n",
              "      <td>BERLIN  German prosecutors said Wednesday they...</td>\n",
              "    </tr>\n",
              "  </tbody>\n",
              "</table>\n",
              "</div>"
            ],
            "text/plain": [
              "   Unnamed: 0  ...                                   cleaned2_article\n",
              "0           0  ...  Netflix is facing backlash from viewers in sev...\n",
              "1           1  ...  BERLIN  Police are searching an allotment plot...\n",
              "2           2  ...  WASHINGTON  Twitters decision to crack down on...\n",
              "3           3  ...  Online child sex abuse cases in Thailand are s...\n",
              "4           4  ...  BERLIN  German prosecutors said Wednesday they...\n",
              "\n",
              "[5 rows x 7 columns]"
            ]
          },
          "metadata": {
            "tags": []
          },
          "execution_count": 42
        }
      ]
    },
    {
      "cell_type": "code",
      "metadata": {
        "id": "9jpj3B5ZaUKB"
      },
      "source": [
        ""
      ],
      "execution_count": null,
      "outputs": []
    },
    {
      "cell_type": "code",
      "metadata": {
        "id": "xxO8vKfWapn-"
      },
      "source": [
        "childTraff_4spark = child_trafficking_rest_complete[['cleaned_article']]"
      ],
      "execution_count": null,
      "outputs": []
    },
    {
      "cell_type": "code",
      "metadata": {
        "id": "vsfiZNPxapk9",
        "outputId": "26ea22a0-a26a-49ea-cc94-a706b3c03dd1",
        "colab": {
          "base_uri": "https://localhost:8080/",
          "height": 190
        }
      },
      "source": [
        "childTraff_4spark.head()"
      ],
      "execution_count": null,
      "outputs": [
        {
          "output_type": "execute_result",
          "data": {
            "text/html": [
              "<div>\n",
              "<style scoped>\n",
              "    .dataframe tbody tr th:only-of-type {\n",
              "        vertical-align: middle;\n",
              "    }\n",
              "\n",
              "    .dataframe tbody tr th {\n",
              "        vertical-align: top;\n",
              "    }\n",
              "\n",
              "    .dataframe thead th {\n",
              "        text-align: right;\n",
              "    }\n",
              "</style>\n",
              "<table border=\"1\" class=\"dataframe\">\n",
              "  <thead>\n",
              "    <tr style=\"text-align: right;\">\n",
              "      <th></th>\n",
              "      <th>cleaned_article</th>\n",
              "    </tr>\n",
              "  </thead>\n",
              "  <tbody>\n",
              "    <tr>\n",
              "      <th>0</th>\n",
              "      <td>Netflix is facing backlash from viewers in sev...</td>\n",
              "    </tr>\n",
              "    <tr>\n",
              "      <th>1</th>\n",
              "      <td>BERLIN - Police are searching an allotment plo...</td>\n",
              "    </tr>\n",
              "    <tr>\n",
              "      <th>2</th>\n",
              "      <td>WASHINGTON - Twitter's decision to crack down ...</td>\n",
              "    </tr>\n",
              "    <tr>\n",
              "      <th>3</th>\n",
              "      <td>Online child sex abuse cases in Thailand are s...</td>\n",
              "    </tr>\n",
              "    <tr>\n",
              "      <th>4</th>\n",
              "      <td>BERLIN - German prosecutors said Wednesday the...</td>\n",
              "    </tr>\n",
              "  </tbody>\n",
              "</table>\n",
              "</div>"
            ],
            "text/plain": [
              "                                     cleaned_article\n",
              "0  Netflix is facing backlash from viewers in sev...\n",
              "1  BERLIN - Police are searching an allotment plo...\n",
              "2  WASHINGTON - Twitter's decision to crack down ...\n",
              "3  Online child sex abuse cases in Thailand are s...\n",
              "4  BERLIN - German prosecutors said Wednesday the..."
            ]
          },
          "metadata": {
            "tags": []
          },
          "execution_count": 44
        }
      ]
    },
    {
      "cell_type": "code",
      "metadata": {
        "id": "dcNvIPaXaph2"
      },
      "source": [
        ""
      ],
      "execution_count": null,
      "outputs": []
    },
    {
      "cell_type": "code",
      "metadata": {
        "id": "UdKqP4wPa36j"
      },
      "source": [
        ""
      ],
      "execution_count": null,
      "outputs": []
    },
    {
      "cell_type": "code",
      "metadata": {
        "id": "IAfreSItAICs",
        "outputId": "3dc677d5-eaec-427d-d973-ef4a6d7a9730",
        "colab": {
          "base_uri": "https://localhost:8080/",
          "height": 134
        }
      },
      "source": [
        "import os\n",
        "\n",
        "# Install java\n",
        "! apt-get update -qq\n",
        "! apt-get install -y openjdk-8-jdk-headless -qq > /dev/null\n",
        "\n",
        "os.environ[\"JAVA_HOME\"] = \"/usr/lib/jvm/java-8-openjdk-amd64\"\n",
        "os.environ[\"PATH\"] = os.environ[\"JAVA_HOME\"] + \"/bin:\" + os.environ[\"PATH\"]\n",
        "! java -version\n",
        "\n",
        "# Install pyspark\n",
        "! pip install --ignore-installed -q pyspark==2.4.4\n",
        "! pip install --ignore-installed -q spark-nlp==2.6.3-rc1"
      ],
      "execution_count": null,
      "outputs": [
        {
          "output_type": "stream",
          "text": [
            "openjdk version \"1.8.0_265\"\n",
            "OpenJDK Runtime Environment (build 1.8.0_265-8u265-b01-0ubuntu2~18.04-b01)\n",
            "OpenJDK 64-Bit Server VM (build 25.265-b01, mixed mode)\n",
            "\u001b[K     |████████████████████████████████| 215.7MB 71kB/s \n",
            "\u001b[K     |████████████████████████████████| 204kB 40.4MB/s \n",
            "\u001b[?25h  Building wheel for pyspark (setup.py) ... \u001b[?25l\u001b[?25hdone\n",
            "\u001b[K     |████████████████████████████████| 133kB 3.4MB/s \n",
            "\u001b[?25h"
          ],
          "name": "stdout"
        }
      ]
    },
    {
      "cell_type": "code",
      "metadata": {
        "id": "L5mthsv2AK_I"
      },
      "source": [
        ""
      ],
      "execution_count": null,
      "outputs": []
    },
    {
      "cell_type": "code",
      "metadata": {
        "id": "tFWUTgFzAMuI",
        "outputId": "f41bedfb-5195-44c5-ebfc-3bb03ef92292",
        "colab": {
          "base_uri": "https://localhost:8080/",
          "height": 50
        }
      },
      "source": [
        "import sparknlp\n",
        "\n",
        "spark = sparknlp.start()\n",
        "\n",
        "# params =>> gpu=False, spark23=False (start with spark 2.3)\n",
        "\n",
        "print(\"Spark NLP version\", sparknlp.version())\n",
        "\n",
        "print(\"Apache Spark version:\", spark.version)"
      ],
      "execution_count": null,
      "outputs": [
        {
          "output_type": "stream",
          "text": [
            "Spark NLP version 2.6.3-rc1\n",
            "Apache Spark version: 2.4.4\n"
          ],
          "name": "stdout"
        }
      ]
    },
    {
      "cell_type": "code",
      "metadata": {
        "id": "ywDuBdHca34L"
      },
      "source": [
        ""
      ],
      "execution_count": null,
      "outputs": []
    },
    {
      "cell_type": "code",
      "metadata": {
        "id": "jq8ktYppa31H"
      },
      "source": [
        ""
      ],
      "execution_count": null,
      "outputs": []
    },
    {
      "cell_type": "code",
      "metadata": {
        "id": "QMKY9-e5a6Qx"
      },
      "source": [
        "childTraff_4spark = childTraff_4spark.rename(columns={\"cleaned_article\": \"text\"})"
      ],
      "execution_count": null,
      "outputs": []
    },
    {
      "cell_type": "code",
      "metadata": {
        "id": "bh3uDkHja6N8"
      },
      "source": [
        ""
      ],
      "execution_count": null,
      "outputs": []
    },
    {
      "cell_type": "code",
      "metadata": {
        "id": "An4nplCTZqC3"
      },
      "source": [
        "childTraff_spark_df = spark.createDataFrame(childTraff_4spark)"
      ],
      "execution_count": null,
      "outputs": []
    },
    {
      "cell_type": "code",
      "metadata": {
        "id": "RHAdodipZp_8",
        "outputId": "a6d60649-d593-45e0-e0f9-df8b17685c3e",
        "colab": {
          "base_uri": "https://localhost:8080/",
          "height": 33
        }
      },
      "source": [
        "childTraff_spark_df"
      ],
      "execution_count": null,
      "outputs": [
        {
          "output_type": "execute_result",
          "data": {
            "text/plain": [
              "DataFrame[text: string]"
            ]
          },
          "metadata": {
            "tags": []
          },
          "execution_count": 49
        }
      ]
    },
    {
      "cell_type": "code",
      "metadata": {
        "id": "XY58-FLya3yv"
      },
      "source": [
        ""
      ],
      "execution_count": null,
      "outputs": []
    },
    {
      "cell_type": "code",
      "metadata": {
        "id": "k2xlmK_ebxCm"
      },
      "source": [
        ""
      ],
      "execution_count": null,
      "outputs": []
    },
    {
      "cell_type": "code",
      "metadata": {
        "id": "h-Ye6MpJbw_1"
      },
      "source": [
        "spark_df = childTraff_spark_df"
      ],
      "execution_count": null,
      "outputs": []
    },
    {
      "cell_type": "code",
      "metadata": {
        "id": "hZILDg13bmnw",
        "outputId": "70784c21-112d-4103-fef0-56c597020f21",
        "colab": {
          "base_uri": "https://localhost:8080/",
          "height": 453
        }
      },
      "source": [
        "from sparknlp.base import *\n",
        "\n",
        "documentAssembler = DocumentAssembler()\\\n",
        ".setInputCol(\"text\")\\\n",
        ".setOutputCol(\"document\")\\\n",
        ".setCleanupMode(\"shrink\")\n",
        "\n",
        "doc_df = documentAssembler.transform(spark_df)\n",
        "\n",
        "doc_df.show(truncate=30)"
      ],
      "execution_count": null,
      "outputs": [
        {
          "output_type": "stream",
          "text": [
            "+------------------------------+------------------------------+\n",
            "|                          text|                      document|\n",
            "+------------------------------+------------------------------+\n",
            "|Netflix is facing backlash ...|[[document, 0, 2725, Netfli...|\n",
            "|BERLIN - Police are searchi...|[[document, 0, 3395, BERLIN...|\n",
            "|WASHINGTON - Twitter's deci...|[[document, 0, 4644, WASHIN...|\n",
            "|Online child sex abuse case...|[[document, 0, 2767, Online...|\n",
            "|BERLIN - German prosecutors...|[[document, 0, 3530, BERLIN...|\n",
            "|BRUSSELS - Belgium reopened...|[[document, 0, 3064, BRUSSE...|\n",
            "|LONDON - The family of miss...|[[document, 0, 4183, LONDON...|\n",
            "|BERLIN - Police revealed We...|[[document, 0, 3783, BERLIN...|\n",
            "|Had not the doctors interve...|[[document, 0, 7085, Had no...|\n",
            "|With the enormous number of...|[[document, 0, 3800, With t...|\n",
            "|A 36-year-old assistant vil...|[[document, 0, 1827, A 36-y...|\n",
            "|WASHINGTON - The Saudi mili...|[[document, 0, 3561, WASHIN...|\n",
            "|WASHINGTON - The Saudi mili...|[[document, 0, 2747, WASHIN...|\n",
            "|CHIANG MAI: A man who alleg...|[[document, 0, 1933, CHIANG...|\n",
            "|Facebook Inc. is canceling ...|[[document, 0, 3213, Facebo...|\n",
            "|With the enormous number of...|[[document, 0, 3800, With t...|\n",
            "|With a great number of peop...|[[document, 0, 3859, With a...|\n",
            "|SAN FRANCISCO: The Facebook...|[[document, 0, 3910, SAN FR...|\n",
            "|SAN FRANCISCO - The Faceboo...|[[document, 0, 2509, SAN FR...|\n",
            "|A man has been arrested in ...|[[document, 0, 2217, A man ...|\n",
            "+------------------------------+------------------------------+\n",
            "only showing top 20 rows\n",
            "\n"
          ],
          "name": "stdout"
        }
      ]
    },
    {
      "cell_type": "code",
      "metadata": {
        "id": "OxDVPsLGbmk2"
      },
      "source": [
        ""
      ],
      "execution_count": null,
      "outputs": []
    },
    {
      "cell_type": "code",
      "metadata": {
        "id": "M9Z8Ibb9cDyB"
      },
      "source": [
        ""
      ],
      "execution_count": null,
      "outputs": []
    },
    {
      "cell_type": "code",
      "metadata": {
        "id": "uuQ1GGF_cDvC"
      },
      "source": [
        ""
      ],
      "execution_count": null,
      "outputs": []
    },
    {
      "cell_type": "markdown",
      "metadata": {
        "id": "XXlqtOXccJZg"
      },
      "source": [
        "# NER USING SPARK NLP"
      ]
    },
    {
      "cell_type": "code",
      "metadata": {
        "id": "Vg519JHkcDsX"
      },
      "source": [
        "from pyspark.ml import Pipeline\n",
        "from sparknlp.annotator import *\n",
        "from sparknlp.common import *\n",
        "from sparknlp.base import *"
      ],
      "execution_count": null,
      "outputs": []
    },
    {
      "cell_type": "code",
      "metadata": {
        "id": "VY3m8CodcDpu"
      },
      "source": [
        "from sparknlp.training import CoNLL\n",
        "import pyspark.sql.functions as F"
      ],
      "execution_count": null,
      "outputs": []
    },
    {
      "cell_type": "code",
      "metadata": {
        "id": "CR2UGjU4dYhO"
      },
      "source": [
        ""
      ],
      "execution_count": null,
      "outputs": []
    },
    {
      "cell_type": "code",
      "metadata": {
        "id": "bSDjkW-GdYeT",
        "outputId": "40dbd45b-dfa3-47bc-ae0d-b73bbe3af565",
        "colab": {
          "base_uri": "https://localhost:8080/",
          "height": 117
        }
      },
      "source": [
        "documentAssembler = DocumentAssembler()\\\n",
        "    .setInputCol(\"text\")\\\n",
        "    .setOutputCol(\"document\")\n",
        "\n",
        "tokenizer = Tokenizer() \\\n",
        "    .setInputCols([\"document\"]) \\\n",
        "    .setOutputCol(\"token\")\n",
        "\n",
        "bert_embeddings = BertEmbeddings.pretrained('bert_base_cased')\\\n",
        "          .setInputCols([\"document\", \"token\"])\\\n",
        "          .setOutputCol(\"embeddings\")\n",
        "\n",
        "onto_ner_bert = NerDLModel.pretrained(\"ner_dl_bert\", 'en') \\\n",
        "          .setInputCols([\"document\", \"token\", \"embeddings\"]) \\\n",
        "          .setOutputCol(\"ner\")\n",
        "\n",
        "onto_ner_bert.getStorageRef()\n",
        "\n",
        "nlpPipeline = Pipeline(stages=[\n",
        " documentAssembler, \n",
        " tokenizer,\n",
        " bert_embeddings,\n",
        " onto_ner_bert\n",
        " ])\n",
        "\n",
        "empty_df = spark.createDataFrame([['']]).toDF(\"text\")\n",
        "\n",
        "pipelineModel = nlpPipeline.fit(empty_df)"
      ],
      "execution_count": null,
      "outputs": [
        {
          "output_type": "stream",
          "text": [
            "bert_base_cased download started this may take some time.\n",
            "Approximate size to download 389.1 MB\n",
            "[OK!]\n",
            "ner_dl_bert download started this may take some time.\n",
            "Approximate size to download 15.4 MB\n",
            "[OK!]\n"
          ],
          "name": "stdout"
        }
      ]
    },
    {
      "cell_type": "code",
      "metadata": {
        "id": "v9ZBsAs1dYbb"
      },
      "source": [
        ""
      ],
      "execution_count": null,
      "outputs": []
    },
    {
      "cell_type": "markdown",
      "metadata": {
        "id": "71rZVJit4HAb"
      },
      "source": [
        "### Public NER (CoNLL 2003)\n",
        "\n",
        "<p><strong>Named-Entity recognition</strong> is a well-known technique in information extraction it is also known as&nbsp;<strong>entity identification</strong>,&nbsp;<strong>entity chunking</strong>&nbsp;and&nbsp;<strong>entity extraction.</strong>&nbsp;Knowing the relevant tags for each article help in automatically categorizing the articles in defined hierarchies and enable smooth content discovery. "
      ]
    },
    {
      "cell_type": "markdown",
      "metadata": {
        "id": "j7Qr_dVL4LDZ"
      },
      "source": [
        "Entities\n",
        "\n",
        "``` PERSON, LOCATION, ORGANIZATION, MISC ```"
      ]
    },
    {
      "cell_type": "code",
      "metadata": {
        "id": "fR6faruZfKFb",
        "outputId": "b6daa949-90dd-4c89-85ab-9d4bc562e2f5",
        "colab": {
          "base_uri": "https://localhost:8080/",
          "height": 67
        }
      },
      "source": [
        "public_ner = NerDLModel.pretrained(\"ner_dl\", 'en') \\\n",
        "          .setInputCols([\"document\", \"token\", \"embeddings\"]) \\\n",
        "          .setOutputCol(\"ner\")"
      ],
      "execution_count": null,
      "outputs": [
        {
          "output_type": "stream",
          "text": [
            "ner_dl download started this may take some time.\n",
            "Approximate size to download 13.6 MB\n",
            "[OK!]\n"
          ],
          "name": "stdout"
        }
      ]
    },
    {
      "cell_type": "code",
      "metadata": {
        "id": "HzAZjzMGJ0x5",
        "outputId": "78a4f9ef-18bf-490e-a0a3-eb0c1a387455",
        "colab": {
          "base_uri": "https://localhost:8080/",
          "height": 33
        }
      },
      "source": [
        "public_ner.getClasses()"
      ],
      "execution_count": null,
      "outputs": [
        {
          "output_type": "execute_result",
          "data": {
            "text/plain": [
              "['O', 'B-ORG', 'B-LOC', 'B-PER', 'I-PER', 'I-ORG', 'B-MISC', 'I-LOC', 'I-MISC']"
            ]
          },
          "metadata": {
            "tags": []
          },
          "execution_count": 60
        }
      ]
    },
    {
      "cell_type": "code",
      "metadata": {
        "id": "w-Li0LMw1rFS",
        "outputId": "0c266af2-2a3f-4ba7-d1d7-a6e4a0d689bc",
        "colab": {
          "base_uri": "https://localhost:8080/",
          "height": 67
        }
      },
      "source": [
        "documentAssembler = DocumentAssembler()\\\n",
        "    .setInputCol(\"text\")\\\n",
        "    .setOutputCol(\"document\")\n",
        "\n",
        "tokenizer = Tokenizer() \\\n",
        "    .setInputCols([\"document\"]) \\\n",
        "    .setOutputCol(\"token\")\n",
        "\n",
        "# ner_dl model is trained with glove_100d. So we use the same embeddings in the pipeline\n",
        "glove_embeddings = WordEmbeddingsModel.pretrained('glove_100d').\\\n",
        "  setInputCols([\"document\", 'token']).\\\n",
        "  setOutputCol(\"embeddings\")\n",
        "\n",
        "nlpPipeline = Pipeline(stages=[\n",
        " documentAssembler, \n",
        " tokenizer,\n",
        " glove_embeddings,\n",
        " public_ner\n",
        " ])\n",
        "\n",
        "empty_df = spark.createDataFrame([['']]).toDF(\"text\")\n",
        "\n",
        "pipelineModel = nlpPipeline.fit(empty_df)\n"
      ],
      "execution_count": null,
      "outputs": [
        {
          "output_type": "stream",
          "text": [
            "glove_100d download started this may take some time.\n",
            "Approximate size to download 145.3 MB\n",
            "[OK!]\n"
          ],
          "name": "stdout"
        }
      ]
    },
    {
      "cell_type": "code",
      "metadata": {
        "id": "CCBjXUElrSo7"
      },
      "source": [
        "result = pipelineModel.transform(spark_df)"
      ],
      "execution_count": null,
      "outputs": []
    },
    {
      "cell_type": "code",
      "metadata": {
        "id": "fiBI4YSl2Jud",
        "outputId": "b9b3f724-2472-4bd0-bfc9-fbfb08185bf9",
        "colab": {
          "base_uri": "https://localhost:8080/",
          "height": 957
        }
      },
      "source": [
        "result = pipelineModel.transform(spark_df.limit(10))   \n",
        "\n",
        "result_df = result.select(F.explode(F.arrays_zip('token.result', 'ner.result')).alias(\"cols\")) \\\n",
        ".select(F.expr(\"cols['0']\").alias(\"token\"),\n",
        "        F.expr(\"cols['1']\").alias(\"ner_label\"))\n",
        "\n",
        "result_df.show(50, truncate=100)\n",
        "\n"
      ],
      "execution_count": null,
      "outputs": [
        {
          "output_type": "stream",
          "text": [
            "+-------------+---------+\n",
            "|        token|ner_label|\n",
            "+-------------+---------+\n",
            "|      Netflix|        O|\n",
            "|           is|        O|\n",
            "|       facing|        O|\n",
            "|     backlash|        O|\n",
            "|         from|        O|\n",
            "|      viewers|        O|\n",
            "|           in|        O|\n",
            "|      several|        O|\n",
            "|    countries|        O|\n",
            "|    following|        O|\n",
            "|          the|        O|\n",
            "|       recent|        O|\n",
            "|      release|        O|\n",
            "|           of|        O|\n",
            "|award-winning|        O|\n",
            "|         film|        O|\n",
            "|       Cuties|    B-PER|\n",
            "|            .|        O|\n",
            "|     Directed|        O|\n",
            "|           by|        O|\n",
            "|     Maïmouna|    B-PER|\n",
            "|     Doucouré|    I-PER|\n",
            "|            ,|        O|\n",
            "|          the|        O|\n",
            "|         film|        O|\n",
            "|          has|        O|\n",
            "|         been|        O|\n",
            "|   criticised|        O|\n",
            "|          for|        O|\n",
            "|  sexualising|        O|\n",
            "|        young|        O|\n",
            "|        girls|        O|\n",
            "|            .|        O|\n",
            "|         This|        O|\n",
            "|           is|        O|\n",
            "|          not|        O|\n",
            "|          the|        O|\n",
            "|        first|        O|\n",
            "|         time|        O|\n",
            "|      Netflix|    B-ORG|\n",
            "|          has|        O|\n",
            "|        faced|        O|\n",
            "|    criticism|        O|\n",
            "|           in|        O|\n",
            "|      regards|        O|\n",
            "|           to|        O|\n",
            "|          its|        O|\n",
            "|     decision|        O|\n",
            "|           to|        O|\n",
            "|          air|        O|\n",
            "+-------------+---------+\n",
            "only showing top 50 rows\n",
            "\n"
          ],
          "name": "stdout"
        }
      ]
    },
    {
      "cell_type": "code",
      "metadata": {
        "id": "B16Z3dZbbmiH"
      },
      "source": [
        ""
      ],
      "execution_count": null,
      "outputs": []
    },
    {
      "cell_type": "code",
      "metadata": {
        "id": "8EcnL4lSV4n6"
      },
      "source": [
        ""
      ],
      "execution_count": null,
      "outputs": []
    },
    {
      "cell_type": "markdown",
      "metadata": {
        "id": "5qinFfvSsy19"
      },
      "source": [
        "### Getting the NER chunks with NER Converter"
      ]
    },
    {
      "cell_type": "code",
      "metadata": {
        "id": "__OLhl663SDJ"
      },
      "source": [
        "\n",
        "ner_converter = NerConverter() \\\n",
        "  .setInputCols([\"document\", \"token\", \"ner\"]) \\\n",
        "  .setOutputCol(\"ner_chunk\")\n",
        "\n",
        "\n",
        "\n",
        "nlpPipeline = Pipeline(stages=[\n",
        " documentAssembler, \n",
        " tokenizer,\n",
        " bert_embeddings,\n",
        " onto_ner_bert,\n",
        " ner_converter\n",
        " ])\n",
        "\n",
        "# empty_df = spark.createDataFrame([['']]).toDF(\"text\")\n",
        "\n",
        "pipelineModel = nlpPipeline.fit(spark_df)\n",
        "\n",
        "result = pipelineModel.transform(spark_df)   #.limit(10)\n",
        "\n"
      ],
      "execution_count": null,
      "outputs": []
    },
    {
      "cell_type": "code",
      "metadata": {
        "id": "qpVaD7K2r6nt",
        "outputId": "62f547c2-f48c-4a40-fc48-ecea4fb82d10",
        "colab": {
          "base_uri": "https://localhost:8080/",
          "height": 453
        }
      },
      "source": [
        "result.select(F.explode(F.arrays_zip('ner_chunk.result', 'ner_chunk.metadata')).alias(\"cols\")) \\\n",
        ".select(F.expr(\"cols['0']\").alias(\"chunk\"),\n",
        "        F.expr(\"cols['1']['entity']\").alias(\"ner_label\")).show(truncate=False)"
      ],
      "execution_count": null,
      "outputs": [
        {
          "output_type": "stream",
          "text": [
            "+-----------------+---------+\n",
            "|chunk            |ner_label|\n",
            "+-----------------+---------+\n",
            "|Netflix          |ORG      |\n",
            "|Cuties           |ORG      |\n",
            "|Maïmouna Doucouré|PER      |\n",
            "|Netflix          |ORG      |\n",
            "|Netflix          |MISC     |\n",
            "|Thailand         |LOC      |\n",
            "|Cuties Cuties    |ORG      |\n",
            "|Amy              |PER      |\n",
            "|BERLIN           |ORG      |\n",
            "|Police           |ORG      |\n",
            "|German           |MISC     |\n",
            "|Hanover          |LOC      |\n",
            "|British          |MISC     |\n",
            "|Madeleine McCann |PER      |\n",
            "|Madeleine        |PER      |\n",
            "|Portuguese       |MISC     |\n",
            "|Praia da Luz     |LOC      |\n",
            "|WASHINGTON       |LOC      |\n",
            "|QAnon            |MISC     |\n",
            "|US               |LOC      |\n",
            "+-----------------+---------+\n",
            "only showing top 20 rows\n",
            "\n"
          ],
          "name": "stdout"
        }
      ]
    },
    {
      "cell_type": "code",
      "metadata": {
        "id": "mQ11qT_vtZMB"
      },
      "source": [
        ""
      ],
      "execution_count": null,
      "outputs": []
    },
    {
      "cell_type": "code",
      "metadata": {
        "id": "zHrYMT2358m5",
        "outputId": "29b87a6c-ea72-47e2-fc37-67d158c50bb2",
        "colab": {
          "base_uri": "https://localhost:8080/",
          "height": 128
        }
      },
      "source": [
        "prediction.select(F.explode(F.arrays_zip('token.result','label.result','ner.result')).alias(\"cols\")) \\\n",
        ".select(F.expr(“cols[‘0’]“).alias(“token”),\n",
        "        F.expr(“cols[‘1’]“).alias(“ground_truth”),\n",
        "        F.expr(“cols[‘2’]“).alias(“prediction”)).\\\n",
        "        groupBy(‘prediction’).count().orderBy(‘count’, ascending=False).show(truncate=False)"
      ],
      "execution_count": null,
      "outputs": [
        {
          "output_type": "error",
          "ename": "SyntaxError",
          "evalue": "ignored",
          "traceback": [
            "\u001b[0;36m  File \u001b[0;32m\"<ipython-input-88-46888ff8f613>\"\u001b[0;36m, line \u001b[0;32m1\u001b[0m\n\u001b[0;31m    result.select(F.explode(F.arrays_zip('token.result','label.result','ner.result')).alias(\"cols\")) .select(F.expr(“cols[‘0’]“).alias(“token”),\u001b[0m\n\u001b[0m                                                                                                                        ^\u001b[0m\n\u001b[0;31mSyntaxError\u001b[0m\u001b[0;31m:\u001b[0m invalid character in identifier\n"
          ]
        }
      ]
    },
    {
      "cell_type": "code",
      "metadata": {
        "id": "6N3csPqO58jS"
      },
      "source": [
        ""
      ],
      "execution_count": null,
      "outputs": []
    },
    {
      "cell_type": "code",
      "metadata": {
        "id": "EfZdkiJr58fZ"
      },
      "source": [
        ""
      ],
      "execution_count": null,
      "outputs": []
    },
    {
      "cell_type": "code",
      "metadata": {
        "id": "3h4VJoB25OSJ",
        "outputId": "f315c88d-4dc3-465d-fe4e-f444e9b7e39d",
        "colab": {
          "base_uri": "https://localhost:8080/",
          "height": 1000
        }
      },
      "source": [
        "result.select(\"chunk\", \"ner_label\").groupBy('ner_label').count().oderBy('count', ascending=False).show(truncate=False)"
      ],
      "execution_count": null,
      "outputs": [
        {
          "output_type": "error",
          "ename": "AnalysisException",
          "evalue": "ignored",
          "traceback": [
            "\u001b[0;31m---------------------------------------------------------------------------\u001b[0m",
            "\u001b[0;31mPy4JJavaError\u001b[0m                             Traceback (most recent call last)",
            "\u001b[0;32m/usr/local/lib/python3.6/dist-packages/pyspark/sql/utils.py\u001b[0m in \u001b[0;36mdeco\u001b[0;34m(*a, **kw)\u001b[0m\n\u001b[1;32m     62\u001b[0m         \u001b[0;32mtry\u001b[0m\u001b[0;34m:\u001b[0m\u001b[0;34m\u001b[0m\u001b[0;34m\u001b[0m\u001b[0m\n\u001b[0;32m---> 63\u001b[0;31m             \u001b[0;32mreturn\u001b[0m \u001b[0mf\u001b[0m\u001b[0;34m(\u001b[0m\u001b[0;34m*\u001b[0m\u001b[0ma\u001b[0m\u001b[0;34m,\u001b[0m \u001b[0;34m**\u001b[0m\u001b[0mkw\u001b[0m\u001b[0;34m)\u001b[0m\u001b[0;34m\u001b[0m\u001b[0;34m\u001b[0m\u001b[0m\n\u001b[0m\u001b[1;32m     64\u001b[0m         \u001b[0;32mexcept\u001b[0m \u001b[0mpy4j\u001b[0m\u001b[0;34m.\u001b[0m\u001b[0mprotocol\u001b[0m\u001b[0;34m.\u001b[0m\u001b[0mPy4JJavaError\u001b[0m \u001b[0;32mas\u001b[0m \u001b[0me\u001b[0m\u001b[0;34m:\u001b[0m\u001b[0;34m\u001b[0m\u001b[0;34m\u001b[0m\u001b[0m\n",
            "\u001b[0;32m/usr/local/lib/python3.6/dist-packages/py4j/protocol.py\u001b[0m in \u001b[0;36mget_return_value\u001b[0;34m(answer, gateway_client, target_id, name)\u001b[0m\n\u001b[1;32m    327\u001b[0m                     \u001b[0;34m\"An error occurred while calling {0}{1}{2}.\\n\"\u001b[0m\u001b[0;34m.\u001b[0m\u001b[0;34m\u001b[0m\u001b[0;34m\u001b[0m\u001b[0m\n\u001b[0;32m--> 328\u001b[0;31m                     format(target_id, \".\", name), value)\n\u001b[0m\u001b[1;32m    329\u001b[0m             \u001b[0;32melse\u001b[0m\u001b[0;34m:\u001b[0m\u001b[0;34m\u001b[0m\u001b[0;34m\u001b[0m\u001b[0m\n",
            "\u001b[0;31mPy4JJavaError\u001b[0m: An error occurred while calling o1276.select.\n: org.apache.spark.sql.AnalysisException: cannot resolve '`chunk`' given input columns: [token, text, ner_chunk, document, embeddings, ner];;\n'Project ['chunk, 'ner_label]\n+- Project [text#0, document#217, token#221, embeddings#232, ner#239, UDF(array(document#217, token#221, ner#239)) AS ner_chunk#246]\n   +- Project [text#0, document#217, token#221, embeddings#232, UDF(array(document#217, token#221, embeddings#232)) AS ner#239]\n      +- Project [text#0, document#217, token#221, embeddings#226 AS embeddings#232]\n         +- Project [text#0, document#217, token#221, UDF(array(document#217, token#221)) AS embeddings#226]\n            +- Project [text#0, document#217, UDF(array(document#217)) AS token#221]\n               +- Project [text#0, UDF(text#0) AS document#217]\n                  +- LogicalRDD [text#0], false\n\n\tat org.apache.spark.sql.catalyst.analysis.package$AnalysisErrorAt.failAnalysis(package.scala:42)\n\tat org.apache.spark.sql.catalyst.analysis.CheckAnalysis$$anonfun$checkAnalysis$1$$anonfun$apply$3.applyOrElse(CheckAnalysis.scala:111)\n\tat org.apache.spark.sql.catalyst.analysis.CheckAnalysis$$anonfun$checkAnalysis$1$$anonfun$apply$3.applyOrElse(CheckAnalysis.scala:108)\n\tat org.apache.spark.sql.catalyst.trees.TreeNode$$anonfun$transformUp$1.apply(TreeNode.scala:281)\n\tat org.apache.spark.sql.catalyst.trees.TreeNode$$anonfun$transformUp$1.apply(TreeNode.scala:281)\n\tat org.apache.spark.sql.catalyst.trees.CurrentOrigin$.withOrigin(TreeNode.scala:70)\n\tat org.apache.spark.sql.catalyst.trees.TreeNode.transformUp(TreeNode.scala:280)\n\tat org.apache.spark.sql.catalyst.plans.QueryPlan$$anonfun$transformExpressionsUp$1.apply(QueryPlan.scala:93)\n\tat org.apache.spark.sql.catalyst.plans.QueryPlan$$anonfun$transformExpressionsUp$1.apply(QueryPlan.scala:93)\n\tat org.apache.spark.sql.catalyst.plans.QueryPlan$$anonfun$1.apply(QueryPlan.scala:105)\n\tat org.apache.spark.sql.catalyst.plans.QueryPlan$$anonfun$1.apply(QueryPlan.scala:105)\n\tat org.apache.spark.sql.catalyst.trees.CurrentOrigin$.withOrigin(TreeNode.scala:70)\n\tat org.apache.spark.sql.catalyst.plans.QueryPlan.transformExpression$1(QueryPlan.scala:104)\n\tat org.apache.spark.sql.catalyst.plans.QueryPlan.org$apache$spark$sql$catalyst$plans$QueryPlan$$recursiveTransform$1(QueryPlan.scala:116)\n\tat org.apache.spark.sql.catalyst.plans.QueryPlan$$anonfun$org$apache$spark$sql$catalyst$plans$QueryPlan$$recursiveTransform$1$2.apply(QueryPlan.scala:121)\n\tat scala.collection.TraversableLike$$anonfun$map$1.apply(TraversableLike.scala:234)\n\tat scala.collection.TraversableLike$$anonfun$map$1.apply(TraversableLike.scala:234)\n\tat scala.collection.mutable.ResizableArray$class.foreach(ResizableArray.scala:59)\n\tat scala.collection.mutable.ArrayBuffer.foreach(ArrayBuffer.scala:48)\n\tat scala.collection.TraversableLike$class.map(TraversableLike.scala:234)\n\tat scala.collection.AbstractTraversable.map(Traversable.scala:104)\n\tat org.apache.spark.sql.catalyst.plans.QueryPlan.org$apache$spark$sql$catalyst$plans$QueryPlan$$recursiveTransform$1(QueryPlan.scala:121)\n\tat org.apache.spark.sql.catalyst.plans.QueryPlan$$anonfun$2.apply(QueryPlan.scala:126)\n\tat org.apache.spark.sql.catalyst.trees.TreeNode.mapProductIterator(TreeNode.scala:187)\n\tat org.apache.spark.sql.catalyst.plans.QueryPlan.mapExpressions(QueryPlan.scala:126)\n\tat org.apache.spark.sql.catalyst.plans.QueryPlan.transformExpressionsUp(QueryPlan.scala:93)\n\tat org.apache.spark.sql.catalyst.analysis.CheckAnalysis$$anonfun$checkAnalysis$1.apply(CheckAnalysis.scala:108)\n\tat org.apache.spark.sql.catalyst.analysis.CheckAnalysis$$anonfun$checkAnalysis$1.apply(CheckAnalysis.scala:86)\n\tat org.apache.spark.sql.catalyst.trees.TreeNode.foreachUp(TreeNode.scala:127)\n\tat org.apache.spark.sql.catalyst.analysis.CheckAnalysis$class.checkAnalysis(CheckAnalysis.scala:86)\n\tat org.apache.spark.sql.catalyst.analysis.Analyzer.checkAnalysis(Analyzer.scala:95)\n\tat org.apache.spark.sql.catalyst.analysis.Analyzer$$anonfun$executeAndCheck$1.apply(Analyzer.scala:108)\n\tat org.apache.spark.sql.catalyst.analysis.Analyzer$$anonfun$executeAndCheck$1.apply(Analyzer.scala:105)\n\tat org.apache.spark.sql.catalyst.plans.logical.AnalysisHelper$.markInAnalyzer(AnalysisHelper.scala:201)\n\tat org.apache.spark.sql.catalyst.analysis.Analyzer.executeAndCheck(Analyzer.scala:105)\n\tat org.apache.spark.sql.execution.QueryExecution.analyzed$lzycompute(QueryExecution.scala:57)\n\tat org.apache.spark.sql.execution.QueryExecution.analyzed(QueryExecution.scala:55)\n\tat org.apache.spark.sql.execution.QueryExecution.assertAnalyzed(QueryExecution.scala:47)\n\tat org.apache.spark.sql.Dataset$.ofRows(Dataset.scala:78)\n\tat org.apache.spark.sql.Dataset.org$apache$spark$sql$Dataset$$withPlan(Dataset.scala:3412)\n\tat org.apache.spark.sql.Dataset.select(Dataset.scala:1340)\n\tat sun.reflect.NativeMethodAccessorImpl.invoke0(Native Method)\n\tat sun.reflect.NativeMethodAccessorImpl.invoke(NativeMethodAccessorImpl.java:62)\n\tat sun.reflect.DelegatingMethodAccessorImpl.invoke(DelegatingMethodAccessorImpl.java:43)\n\tat java.lang.reflect.Method.invoke(Method.java:498)\n\tat py4j.reflection.MethodInvoker.invoke(MethodInvoker.java:244)\n\tat py4j.reflection.ReflectionEngine.invoke(ReflectionEngine.java:357)\n\tat py4j.Gateway.invoke(Gateway.java:282)\n\tat py4j.commands.AbstractCommand.invokeMethod(AbstractCommand.java:132)\n\tat py4j.commands.CallCommand.execute(CallCommand.java:79)\n\tat py4j.GatewayConnection.run(GatewayConnection.java:238)\n\tat java.lang.Thread.run(Thread.java:748)\n",
            "\nDuring handling of the above exception, another exception occurred:\n",
            "\u001b[0;31mAnalysisException\u001b[0m                         Traceback (most recent call last)",
            "\u001b[0;32m<ipython-input-86-84e977979c59>\u001b[0m in \u001b[0;36m<module>\u001b[0;34m()\u001b[0m\n\u001b[0;32m----> 1\u001b[0;31m \u001b[0mresult\u001b[0m\u001b[0;34m.\u001b[0m\u001b[0mselect\u001b[0m\u001b[0;34m(\u001b[0m\u001b[0;34m\"chunk\"\u001b[0m\u001b[0;34m,\u001b[0m \u001b[0;34m\"ner_label\"\u001b[0m\u001b[0;34m)\u001b[0m\u001b[0;34m.\u001b[0m\u001b[0mgroupBy\u001b[0m\u001b[0;34m(\u001b[0m\u001b[0;34m'ner_label'\u001b[0m\u001b[0;34m)\u001b[0m\u001b[0;34m.\u001b[0m\u001b[0mcount\u001b[0m\u001b[0;34m(\u001b[0m\u001b[0;34m)\u001b[0m\u001b[0;34m.\u001b[0m\u001b[0moderBy\u001b[0m\u001b[0;34m(\u001b[0m\u001b[0;34m'count'\u001b[0m\u001b[0;34m,\u001b[0m \u001b[0mascending\u001b[0m\u001b[0;34m=\u001b[0m\u001b[0;32mFalse\u001b[0m\u001b[0;34m)\u001b[0m\u001b[0;34m.\u001b[0m\u001b[0mshow\u001b[0m\u001b[0;34m(\u001b[0m\u001b[0mtruncate\u001b[0m\u001b[0;34m=\u001b[0m\u001b[0;32mFalse\u001b[0m\u001b[0;34m)\u001b[0m\u001b[0;34m\u001b[0m\u001b[0;34m\u001b[0m\u001b[0m\n\u001b[0m",
            "\u001b[0;32m/usr/local/lib/python3.6/dist-packages/pyspark/sql/dataframe.py\u001b[0m in \u001b[0;36mselect\u001b[0;34m(self, *cols)\u001b[0m\n\u001b[1;32m   1319\u001b[0m         \u001b[0;34m[\u001b[0m\u001b[0mRow\u001b[0m\u001b[0;34m(\u001b[0m\u001b[0mname\u001b[0m\u001b[0;34m=\u001b[0m\u001b[0;34mu'Alice'\u001b[0m\u001b[0;34m,\u001b[0m \u001b[0mage\u001b[0m\u001b[0;34m=\u001b[0m\u001b[0;36m12\u001b[0m\u001b[0;34m)\u001b[0m\u001b[0;34m,\u001b[0m \u001b[0mRow\u001b[0m\u001b[0;34m(\u001b[0m\u001b[0mname\u001b[0m\u001b[0;34m=\u001b[0m\u001b[0;34mu'Bob'\u001b[0m\u001b[0;34m,\u001b[0m \u001b[0mage\u001b[0m\u001b[0;34m=\u001b[0m\u001b[0;36m15\u001b[0m\u001b[0;34m)\u001b[0m\u001b[0;34m]\u001b[0m\u001b[0;34m\u001b[0m\u001b[0;34m\u001b[0m\u001b[0m\n\u001b[1;32m   1320\u001b[0m         \"\"\"\n\u001b[0;32m-> 1321\u001b[0;31m         \u001b[0mjdf\u001b[0m \u001b[0;34m=\u001b[0m \u001b[0mself\u001b[0m\u001b[0;34m.\u001b[0m\u001b[0m_jdf\u001b[0m\u001b[0;34m.\u001b[0m\u001b[0mselect\u001b[0m\u001b[0;34m(\u001b[0m\u001b[0mself\u001b[0m\u001b[0;34m.\u001b[0m\u001b[0m_jcols\u001b[0m\u001b[0;34m(\u001b[0m\u001b[0;34m*\u001b[0m\u001b[0mcols\u001b[0m\u001b[0;34m)\u001b[0m\u001b[0;34m)\u001b[0m\u001b[0;34m\u001b[0m\u001b[0;34m\u001b[0m\u001b[0m\n\u001b[0m\u001b[1;32m   1322\u001b[0m         \u001b[0;32mreturn\u001b[0m \u001b[0mDataFrame\u001b[0m\u001b[0;34m(\u001b[0m\u001b[0mjdf\u001b[0m\u001b[0;34m,\u001b[0m \u001b[0mself\u001b[0m\u001b[0;34m.\u001b[0m\u001b[0msql_ctx\u001b[0m\u001b[0;34m)\u001b[0m\u001b[0;34m\u001b[0m\u001b[0;34m\u001b[0m\u001b[0m\n\u001b[1;32m   1323\u001b[0m \u001b[0;34m\u001b[0m\u001b[0m\n",
            "\u001b[0;32m/usr/local/lib/python3.6/dist-packages/py4j/java_gateway.py\u001b[0m in \u001b[0;36m__call__\u001b[0;34m(self, *args)\u001b[0m\n\u001b[1;32m   1255\u001b[0m         \u001b[0manswer\u001b[0m \u001b[0;34m=\u001b[0m \u001b[0mself\u001b[0m\u001b[0;34m.\u001b[0m\u001b[0mgateway_client\u001b[0m\u001b[0;34m.\u001b[0m\u001b[0msend_command\u001b[0m\u001b[0;34m(\u001b[0m\u001b[0mcommand\u001b[0m\u001b[0;34m)\u001b[0m\u001b[0;34m\u001b[0m\u001b[0;34m\u001b[0m\u001b[0m\n\u001b[1;32m   1256\u001b[0m         return_value = get_return_value(\n\u001b[0;32m-> 1257\u001b[0;31m             answer, self.gateway_client, self.target_id, self.name)\n\u001b[0m\u001b[1;32m   1258\u001b[0m \u001b[0;34m\u001b[0m\u001b[0m\n\u001b[1;32m   1259\u001b[0m         \u001b[0;32mfor\u001b[0m \u001b[0mtemp_arg\u001b[0m \u001b[0;32min\u001b[0m \u001b[0mtemp_args\u001b[0m\u001b[0;34m:\u001b[0m\u001b[0;34m\u001b[0m\u001b[0;34m\u001b[0m\u001b[0m\n",
            "\u001b[0;32m/usr/local/lib/python3.6/dist-packages/pyspark/sql/utils.py\u001b[0m in \u001b[0;36mdeco\u001b[0;34m(*a, **kw)\u001b[0m\n\u001b[1;32m     67\u001b[0m                                              e.java_exception.getStackTrace()))\n\u001b[1;32m     68\u001b[0m             \u001b[0;32mif\u001b[0m \u001b[0ms\u001b[0m\u001b[0;34m.\u001b[0m\u001b[0mstartswith\u001b[0m\u001b[0;34m(\u001b[0m\u001b[0;34m'org.apache.spark.sql.AnalysisException: '\u001b[0m\u001b[0;34m)\u001b[0m\u001b[0;34m:\u001b[0m\u001b[0;34m\u001b[0m\u001b[0;34m\u001b[0m\u001b[0m\n\u001b[0;32m---> 69\u001b[0;31m                 \u001b[0;32mraise\u001b[0m \u001b[0mAnalysisException\u001b[0m\u001b[0;34m(\u001b[0m\u001b[0ms\u001b[0m\u001b[0;34m.\u001b[0m\u001b[0msplit\u001b[0m\u001b[0;34m(\u001b[0m\u001b[0;34m': '\u001b[0m\u001b[0;34m,\u001b[0m \u001b[0;36m1\u001b[0m\u001b[0;34m)\u001b[0m\u001b[0;34m[\u001b[0m\u001b[0;36m1\u001b[0m\u001b[0;34m]\u001b[0m\u001b[0;34m,\u001b[0m \u001b[0mstackTrace\u001b[0m\u001b[0;34m)\u001b[0m\u001b[0;34m\u001b[0m\u001b[0;34m\u001b[0m\u001b[0m\n\u001b[0m\u001b[1;32m     70\u001b[0m             \u001b[0;32mif\u001b[0m \u001b[0ms\u001b[0m\u001b[0;34m.\u001b[0m\u001b[0mstartswith\u001b[0m\u001b[0;34m(\u001b[0m\u001b[0;34m'org.apache.spark.sql.catalyst.analysis'\u001b[0m\u001b[0;34m)\u001b[0m\u001b[0;34m:\u001b[0m\u001b[0;34m\u001b[0m\u001b[0;34m\u001b[0m\u001b[0m\n\u001b[1;32m     71\u001b[0m                 \u001b[0;32mraise\u001b[0m \u001b[0mAnalysisException\u001b[0m\u001b[0;34m(\u001b[0m\u001b[0ms\u001b[0m\u001b[0;34m.\u001b[0m\u001b[0msplit\u001b[0m\u001b[0;34m(\u001b[0m\u001b[0;34m': '\u001b[0m\u001b[0;34m,\u001b[0m \u001b[0;36m1\u001b[0m\u001b[0;34m)\u001b[0m\u001b[0;34m[\u001b[0m\u001b[0;36m1\u001b[0m\u001b[0;34m]\u001b[0m\u001b[0;34m,\u001b[0m \u001b[0mstackTrace\u001b[0m\u001b[0;34m)\u001b[0m\u001b[0;34m\u001b[0m\u001b[0;34m\u001b[0m\u001b[0m\n",
            "\u001b[0;31mAnalysisException\u001b[0m: \"cannot resolve '`chunk`' given input columns: [token, text, ner_chunk, document, embeddings, ner];;\\n'Project ['chunk, 'ner_label]\\n+- Project [text#0, document#217, token#221, embeddings#232, ner#239, UDF(array(document#217, token#221, ner#239)) AS ner_chunk#246]\\n   +- Project [text#0, document#217, token#221, embeddings#232, UDF(array(document#217, token#221, embeddings#232)) AS ner#239]\\n      +- Project [text#0, document#217, token#221, embeddings#226 AS embeddings#232]\\n         +- Project [text#0, document#217, token#221, UDF(array(document#217, token#221)) AS embeddings#226]\\n            +- Project [text#0, document#217, UDF(array(document#217)) AS token#221]\\n               +- Project [text#0, UDF(text#0) AS document#217]\\n                  +- LogicalRDD [text#0], false\\n\""
          ]
        }
      ]
    },
    {
      "cell_type": "code",
      "metadata": {
        "id": "Ry8bgvFr5OO0"
      },
      "source": [
        ""
      ],
      "execution_count": null,
      "outputs": []
    },
    {
      "cell_type": "code",
      "metadata": {
        "id": "ScuEMF5b5OLb"
      },
      "source": [
        ""
      ],
      "execution_count": null,
      "outputs": []
    },
    {
      "cell_type": "code",
      "metadata": {
        "id": "uzeMEorZ5OIN"
      },
      "source": [
        ""
      ],
      "execution_count": null,
      "outputs": []
    },
    {
      "cell_type": "code",
      "metadata": {
        "id": "Htsgm3WeyBIl"
      },
      "source": [
        "finisher = Finisher()\\\n",
        "    .setInputCols(\"ner_chunk\")"
      ],
      "execution_count": null,
      "outputs": []
    },
    {
      "cell_type": "code",
      "metadata": {
        "id": "5lkIKXHLyBE-"
      },
      "source": [
        "finished = finisher.transform(result)"
      ],
      "execution_count": null,
      "outputs": []
    },
    {
      "cell_type": "code",
      "metadata": {
        "id": "aAwdcm7JyyMH",
        "outputId": "812bb6ed-dbe4-4171-989d-f58ba6366fd3",
        "colab": {
          "base_uri": "https://localhost:8080/",
          "height": 453
        }
      },
      "source": [
        "finished.show()"
      ],
      "execution_count": null,
      "outputs": [
        {
          "output_type": "stream",
          "text": [
            "+--------------------+--------------------+\n",
            "|                text|  finished_ner_chunk|\n",
            "+--------------------+--------------------+\n",
            "|Netflix is facing...|[Netflix, Cuties,...|\n",
            "|BERLIN - Police a...|[BERLIN, Police, ...|\n",
            "|WASHINGTON - Twit...|[WASHINGTON, QAno...|\n",
            "|Online child sex ...|[Thailand, Intern...|\n",
            "|BERLIN - German p...|[BERLIN, German, ...|\n",
            "|BRUSSELS - Belgiu...|[Belgium, German,...|\n",
            "|LONDON - The fami...|[LONDON, British,...|\n",
            "|BERLIN - Police r...|[BERLIN, Police, ...|\n",
            "|Had not the docto...|    [Nittha Wongwan]|\n",
            "|With the enormous...|[Thailand, Protec...|\n",
            "|A 36-year-old ass...|[US, CyberTipline...|\n",
            "|WASHINGTON - The ...|[WASHINGTON, Saud...|\n",
            "|WASHINGTON - The ...|[WASHINGTON, Saud...|\n",
            "|CHIANG MAI: A man...|[CHIANG, Criminal...|\n",
            "|Facebook Inc. is ...|[Facebook Inc, Ma...|\n",
            "|With the enormous...|[Thailand, Protec...|\n",
            "|With a great numb...|[Thailand, Childr...|\n",
            "|SAN FRANCISCO: Th...|[SAN FRANCISCO, F...|\n",
            "|SAN FRANCISCO - T...|[SAN FRANCISCO, F...|\n",
            "|A man has been ar...|[Suphan Buri, Suc...|\n",
            "+--------------------+--------------------+\n",
            "only showing top 20 rows\n",
            "\n"
          ],
          "name": "stdout"
        }
      ]
    },
    {
      "cell_type": "code",
      "metadata": {
        "id": "zSZbp89-yyH9"
      },
      "source": [
        ""
      ],
      "execution_count": null,
      "outputs": []
    },
    {
      "cell_type": "code",
      "metadata": {
        "id": "5W2AbNgmtZId"
      },
      "source": [
        ""
      ],
      "execution_count": null,
      "outputs": []
    },
    {
      "cell_type": "code",
      "metadata": {
        "id": "ixcXsA4Ur6kO"
      },
      "source": [
        "exp = result.toPandas()"
      ],
      "execution_count": null,
      "outputs": []
    },
    {
      "cell_type": "code",
      "metadata": {
        "id": "0kY23nmvsRMl"
      },
      "source": [
        ""
      ],
      "execution_count": null,
      "outputs": []
    },
    {
      "cell_type": "code",
      "metadata": {
        "id": "cn7rAwyYsRJo",
        "outputId": "713f7f7c-5ce6-46d3-8ef8-0bddc0936360",
        "colab": {
          "base_uri": "https://localhost:8080/",
          "height": 526
        }
      },
      "source": [
        "exp"
      ],
      "execution_count": null,
      "outputs": [
        {
          "output_type": "execute_result",
          "data": {
            "text/html": [
              "<div>\n",
              "<style scoped>\n",
              "    .dataframe tbody tr th:only-of-type {\n",
              "        vertical-align: middle;\n",
              "    }\n",
              "\n",
              "    .dataframe tbody tr th {\n",
              "        vertical-align: top;\n",
              "    }\n",
              "\n",
              "    .dataframe thead th {\n",
              "        text-align: right;\n",
              "    }\n",
              "</style>\n",
              "<table border=\"1\" class=\"dataframe\">\n",
              "  <thead>\n",
              "    <tr style=\"text-align: right;\">\n",
              "      <th></th>\n",
              "      <th>text</th>\n",
              "      <th>document</th>\n",
              "      <th>token</th>\n",
              "      <th>embeddings</th>\n",
              "      <th>ner</th>\n",
              "      <th>ner_chunk</th>\n",
              "    </tr>\n",
              "  </thead>\n",
              "  <tbody>\n",
              "    <tr>\n",
              "      <th>0</th>\n",
              "      <td>Netflix is facing backlash from viewers in sev...</td>\n",
              "      <td>[(document, 0, 2725, Netflix is facing backlas...</td>\n",
              "      <td>[(token, 0, 6, Netflix, {'sentence': '0'}, [])...</td>\n",
              "      <td>[(word_embeddings, 0, 6, Netflix, {'sentence':...</td>\n",
              "      <td>[(named_entity, 0, 6, I-ORG, {'word': 'Netflix...</td>\n",
              "      <td>[(chunk, 0, 6, Netflix, {'sentence': '0', 'chu...</td>\n",
              "    </tr>\n",
              "    <tr>\n",
              "      <th>1</th>\n",
              "      <td>BERLIN - Police are searching an allotment plo...</td>\n",
              "      <td>[(document, 0, 3395, BERLIN - Police are searc...</td>\n",
              "      <td>[(token, 0, 5, BERLIN, {'sentence': '0'}, []),...</td>\n",
              "      <td>[(word_embeddings, 0, 5, BERLIN, {'sentence': ...</td>\n",
              "      <td>[(named_entity, 0, 5, I-ORG, {'word': 'BERLIN'...</td>\n",
              "      <td>[(chunk, 0, 5, BERLIN, {'sentence': '0', 'chun...</td>\n",
              "    </tr>\n",
              "    <tr>\n",
              "      <th>2</th>\n",
              "      <td>WASHINGTON - Twitter's decision to crack down ...</td>\n",
              "      <td>[(document, 0, 4644, WASHINGTON - Twitter's de...</td>\n",
              "      <td>[(token, 0, 9, WASHINGTON, {'sentence': '0'}, ...</td>\n",
              "      <td>[(word_embeddings, 0, 9, WASHINGTON, {'sentenc...</td>\n",
              "      <td>[(named_entity, 0, 9, I-LOC, {'word': 'WASHING...</td>\n",
              "      <td>[(chunk, 0, 9, WASHINGTON, {'sentence': '0', '...</td>\n",
              "    </tr>\n",
              "    <tr>\n",
              "      <th>3</th>\n",
              "      <td>Online child sex abuse cases in Thailand are s...</td>\n",
              "      <td>[(document, 0, 2767, Online child sex abuse ca...</td>\n",
              "      <td>[(token, 0, 5, Online, {'sentence': '0'}, []),...</td>\n",
              "      <td>[(word_embeddings, 0, 5, Online, {'sentence': ...</td>\n",
              "      <td>[(named_entity, 0, 5, O, {'word': 'Online'}, [...</td>\n",
              "      <td>[(chunk, 32, 39, Thailand, {'sentence': '0', '...</td>\n",
              "    </tr>\n",
              "    <tr>\n",
              "      <th>4</th>\n",
              "      <td>BERLIN - German prosecutors said Wednesday the...</td>\n",
              "      <td>[(document, 0, 3530, BERLIN - German prosecuto...</td>\n",
              "      <td>[(token, 0, 5, BERLIN, {'sentence': '0'}, []),...</td>\n",
              "      <td>[(word_embeddings, 0, 5, BERLIN, {'sentence': ...</td>\n",
              "      <td>[(named_entity, 0, 5, I-ORG, {'word': 'BERLIN'...</td>\n",
              "      <td>[(chunk, 0, 5, BERLIN, {'sentence': '0', 'chun...</td>\n",
              "    </tr>\n",
              "    <tr>\n",
              "      <th>...</th>\n",
              "      <td>...</td>\n",
              "      <td>...</td>\n",
              "      <td>...</td>\n",
              "      <td>...</td>\n",
              "      <td>...</td>\n",
              "      <td>...</td>\n",
              "    </tr>\n",
              "    <tr>\n",
              "      <th>226</th>\n",
              "      <td>MANILA - Philippine police on Tuesday vowed to...</td>\n",
              "      <td>[(document, 0, 1435, MANILA - Philippine polic...</td>\n",
              "      <td>[(token, 0, 5, MANILA, {'sentence': '0'}, []),...</td>\n",
              "      <td>[(word_embeddings, 0, 5, MANILA, {'sentence': ...</td>\n",
              "      <td>[(named_entity, 0, 5, I-LOC, {'word': 'MANILA'...</td>\n",
              "      <td>[(chunk, 0, 5, MANILA, {'sentence': '0', 'chun...</td>\n",
              "    </tr>\n",
              "    <tr>\n",
              "      <th>227</th>\n",
              "      <td>Philippine President Benigno Aquino on Wednesd...</td>\n",
              "      <td>[(document, 0, 2702, Philippine President Beni...</td>\n",
              "      <td>[(token, 0, 9, Philippine, {'sentence': '0'}, ...</td>\n",
              "      <td>[(word_embeddings, 0, 9, Philippine, {'sentenc...</td>\n",
              "      <td>[(named_entity, 0, 9, O, {'word': 'Philippine'...</td>\n",
              "      <td>[(chunk, 21, 34, Benigno Aquino, {'sentence': ...</td>\n",
              "    </tr>\n",
              "    <tr>\n",
              "      <th>228</th>\n",
              "      <td>The Philippines' top court ruled on Tuesday th...</td>\n",
              "      <td>[(document, 0, 2956, The Philippines' top cour...</td>\n",
              "      <td>[(token, 0, 2, The, {'sentence': '0'}, []), (t...</td>\n",
              "      <td>[(word_embeddings, 0, 2, The, {'sentence': '0'...</td>\n",
              "      <td>[(named_entity, 0, 2, O, {'word': 'The'}, []),...</td>\n",
              "      <td>[(chunk, 4, 14, Philippines, {'sentence': '0',...</td>\n",
              "    </tr>\n",
              "    <tr>\n",
              "      <th>229</th>\n",
              "      <td>Philippine authorities said Wednesday they had...</td>\n",
              "      <td>[(document, 0, 2373, Philippine authorities sa...</td>\n",
              "      <td>[(token, 0, 9, Philippine, {'sentence': '0'}, ...</td>\n",
              "      <td>[(word_embeddings, 0, 9, Philippine, {'sentenc...</td>\n",
              "      <td>[(named_entity, 0, 9, I-LOC, {'word': 'Philipp...</td>\n",
              "      <td>[(chunk, 0, 9, Philippine, {'sentence': '0', '...</td>\n",
              "    </tr>\n",
              "    <tr>\n",
              "      <th>230</th>\n",
              "      <td>In a remote Philippine village, toddlers playe...</td>\n",
              "      <td>[(document, 0, 6444, In a remote Philippine vi...</td>\n",
              "      <td>[(token, 0, 1, In, {'sentence': '0'}, []), (to...</td>\n",
              "      <td>[(word_embeddings, 0, 1, In, {'sentence': '0',...</td>\n",
              "      <td>[(named_entity, 0, 1, O, {'word': 'In'}, []), ...</td>\n",
              "      <td>[(chunk, 12, 21, Philippine, {'sentence': '0',...</td>\n",
              "    </tr>\n",
              "  </tbody>\n",
              "</table>\n",
              "<p>231 rows × 6 columns</p>\n",
              "</div>"
            ],
            "text/plain": [
              "                                                  text  ...                                          ner_chunk\n",
              "0    Netflix is facing backlash from viewers in sev...  ...  [(chunk, 0, 6, Netflix, {'sentence': '0', 'chu...\n",
              "1    BERLIN - Police are searching an allotment plo...  ...  [(chunk, 0, 5, BERLIN, {'sentence': '0', 'chun...\n",
              "2    WASHINGTON - Twitter's decision to crack down ...  ...  [(chunk, 0, 9, WASHINGTON, {'sentence': '0', '...\n",
              "3    Online child sex abuse cases in Thailand are s...  ...  [(chunk, 32, 39, Thailand, {'sentence': '0', '...\n",
              "4    BERLIN - German prosecutors said Wednesday the...  ...  [(chunk, 0, 5, BERLIN, {'sentence': '0', 'chun...\n",
              "..                                                 ...  ...                                                ...\n",
              "226  MANILA - Philippine police on Tuesday vowed to...  ...  [(chunk, 0, 5, MANILA, {'sentence': '0', 'chun...\n",
              "227  Philippine President Benigno Aquino on Wednesd...  ...  [(chunk, 21, 34, Benigno Aquino, {'sentence': ...\n",
              "228  The Philippines' top court ruled on Tuesday th...  ...  [(chunk, 4, 14, Philippines, {'sentence': '0',...\n",
              "229  Philippine authorities said Wednesday they had...  ...  [(chunk, 0, 9, Philippine, {'sentence': '0', '...\n",
              "230  In a remote Philippine village, toddlers playe...  ...  [(chunk, 12, 21, Philippine, {'sentence': '0',...\n",
              "\n",
              "[231 rows x 6 columns]"
            ]
          },
          "metadata": {
            "tags": []
          },
          "execution_count": 73
        }
      ]
    },
    {
      "cell_type": "code",
      "metadata": {
        "id": "-_oMh1GWsRGi",
        "outputId": "1fb3ea19-cf12-4a89-8dc3-25f66432e5af",
        "colab": {
          "base_uri": "https://localhost:8080/",
          "height": 218
        }
      },
      "source": [
        "exp.ner_chunk"
      ],
      "execution_count": null,
      "outputs": [
        {
          "output_type": "execute_result",
          "data": {
            "text/plain": [
              "0      [(chunk, 0, 6, Netflix, {'sentence': '0', 'chu...\n",
              "1      [(chunk, 0, 5, BERLIN, {'sentence': '0', 'chun...\n",
              "2      [(chunk, 0, 9, WASHINGTON, {'sentence': '0', '...\n",
              "3      [(chunk, 32, 39, Thailand, {'sentence': '0', '...\n",
              "4      [(chunk, 0, 5, BERLIN, {'sentence': '0', 'chun...\n",
              "                             ...                        \n",
              "226    [(chunk, 0, 5, MANILA, {'sentence': '0', 'chun...\n",
              "227    [(chunk, 21, 34, Benigno Aquino, {'sentence': ...\n",
              "228    [(chunk, 4, 14, Philippines, {'sentence': '0',...\n",
              "229    [(chunk, 0, 9, Philippine, {'sentence': '0', '...\n",
              "230    [(chunk, 12, 21, Philippine, {'sentence': '0',...\n",
              "Name: ner_chunk, Length: 231, dtype: object"
            ]
          },
          "metadata": {
            "tags": []
          },
          "execution_count": 74
        }
      ]
    },
    {
      "cell_type": "code",
      "metadata": {
        "id": "Js1Yd9-NsRCs"
      },
      "source": [
        ""
      ],
      "execution_count": null,
      "outputs": []
    },
    {
      "cell_type": "code",
      "metadata": {
        "id": "0Ocl4cpNxgSb"
      },
      "source": [
        "finisher = Finisher()\\\n",
        "    .setInputCols(\"\")"
      ],
      "execution_count": null,
      "outputs": []
    },
    {
      "cell_type": "code",
      "metadata": {
        "id": "y6gHKftKxgO-"
      },
      "source": [
        ""
      ],
      "execution_count": null,
      "outputs": []
    },
    {
      "cell_type": "code",
      "metadata": {
        "id": "Ncq8sTK-xgLj"
      },
      "source": [
        "exp2 = finished.toPandas()"
      ],
      "execution_count": null,
      "outputs": []
    },
    {
      "cell_type": "code",
      "metadata": {
        "id": "e3HrKvSfr6g4"
      },
      "source": [
        ""
      ],
      "execution_count": null,
      "outputs": []
    },
    {
      "cell_type": "code",
      "metadata": {
        "id": "RzjX14q1zMVm",
        "outputId": "1a42cfae-1623-4e4b-c7ed-b42126afba9f",
        "colab": {
          "base_uri": "https://localhost:8080/",
          "height": 392
        }
      },
      "source": [
        "exp2"
      ],
      "execution_count": null,
      "outputs": [
        {
          "output_type": "execute_result",
          "data": {
            "text/html": [
              "<div>\n",
              "<style scoped>\n",
              "    .dataframe tbody tr th:only-of-type {\n",
              "        vertical-align: middle;\n",
              "    }\n",
              "\n",
              "    .dataframe tbody tr th {\n",
              "        vertical-align: top;\n",
              "    }\n",
              "\n",
              "    .dataframe thead th {\n",
              "        text-align: right;\n",
              "    }\n",
              "</style>\n",
              "<table border=\"1\" class=\"dataframe\">\n",
              "  <thead>\n",
              "    <tr style=\"text-align: right;\">\n",
              "      <th></th>\n",
              "      <th>text</th>\n",
              "      <th>finished_ner_chunk</th>\n",
              "    </tr>\n",
              "  </thead>\n",
              "  <tbody>\n",
              "    <tr>\n",
              "      <th>0</th>\n",
              "      <td>Netflix is facing backlash from viewers in sev...</td>\n",
              "      <td>[Netflix, Cuties, Maïmouna Doucouré, Netflix, ...</td>\n",
              "    </tr>\n",
              "    <tr>\n",
              "      <th>1</th>\n",
              "      <td>BERLIN - Police are searching an allotment plo...</td>\n",
              "      <td>[BERLIN, Police, German, Hanover, British, Mad...</td>\n",
              "    </tr>\n",
              "    <tr>\n",
              "      <th>2</th>\n",
              "      <td>WASHINGTON - Twitter's decision to crack down ...</td>\n",
              "      <td>[WASHINGTON, QAnon, US, Donald Trump's, Eric, ...</td>\n",
              "    </tr>\n",
              "    <tr>\n",
              "      <th>3</th>\n",
              "      <td>Online child sex abuse cases in Thailand are s...</td>\n",
              "      <td>[Thailand, Internet Crimes Against Children, T...</td>\n",
              "    </tr>\n",
              "    <tr>\n",
              "      <th>4</th>\n",
              "      <td>BERLIN - German prosecutors said Wednesday the...</td>\n",
              "      <td>[BERLIN, German, British, Madeleine McCann, Br...</td>\n",
              "    </tr>\n",
              "    <tr>\n",
              "      <th>...</th>\n",
              "      <td>...</td>\n",
              "      <td>...</td>\n",
              "    </tr>\n",
              "    <tr>\n",
              "      <th>226</th>\n",
              "      <td>MANILA - Philippine police on Tuesday vowed to...</td>\n",
              "      <td>[MANILA, Philippine, Internet, MANILA, Philipp...</td>\n",
              "    </tr>\n",
              "    <tr>\n",
              "      <th>227</th>\n",
              "      <td>Philippine President Benigno Aquino on Wednesd...</td>\n",
              "      <td>[Benigno Aquino, Internet, Philippine, Benigno...</td>\n",
              "    </tr>\n",
              "    <tr>\n",
              "      <th>228</th>\n",
              "      <td>The Philippines' top court ruled on Tuesday th...</td>\n",
              "      <td>[Philippines, Internet, Asia's, Filipino, Inte...</td>\n",
              "    </tr>\n",
              "    <tr>\n",
              "      <th>229</th>\n",
              "      <td>Philippine authorities said Wednesday they had...</td>\n",
              "      <td>[Philippine, National Bureau of Investigation,...</td>\n",
              "    </tr>\n",
              "    <tr>\n",
              "      <th>230</th>\n",
              "      <td>In a remote Philippine village, toddlers playe...</td>\n",
              "      <td>[Philippine, Ibabao, Cebu, Philippines]</td>\n",
              "    </tr>\n",
              "  </tbody>\n",
              "</table>\n",
              "<p>231 rows × 2 columns</p>\n",
              "</div>"
            ],
            "text/plain": [
              "                                                  text                                 finished_ner_chunk\n",
              "0    Netflix is facing backlash from viewers in sev...  [Netflix, Cuties, Maïmouna Doucouré, Netflix, ...\n",
              "1    BERLIN - Police are searching an allotment plo...  [BERLIN, Police, German, Hanover, British, Mad...\n",
              "2    WASHINGTON - Twitter's decision to crack down ...  [WASHINGTON, QAnon, US, Donald Trump's, Eric, ...\n",
              "3    Online child sex abuse cases in Thailand are s...  [Thailand, Internet Crimes Against Children, T...\n",
              "4    BERLIN - German prosecutors said Wednesday the...  [BERLIN, German, British, Madeleine McCann, Br...\n",
              "..                                                 ...                                                ...\n",
              "226  MANILA - Philippine police on Tuesday vowed to...  [MANILA, Philippine, Internet, MANILA, Philipp...\n",
              "227  Philippine President Benigno Aquino on Wednesd...  [Benigno Aquino, Internet, Philippine, Benigno...\n",
              "228  The Philippines' top court ruled on Tuesday th...  [Philippines, Internet, Asia's, Filipino, Inte...\n",
              "229  Philippine authorities said Wednesday they had...  [Philippine, National Bureau of Investigation,...\n",
              "230  In a remote Philippine village, toddlers playe...            [Philippine, Ibabao, Cebu, Philippines]\n",
              "\n",
              "[231 rows x 2 columns]"
            ]
          },
          "metadata": {
            "tags": []
          },
          "execution_count": 85
        }
      ]
    }
  ]
}